{
  "nbformat": 4,
  "nbformat_minor": 0,
  "metadata": {
    "colab": {
      "provenance": [],
      "collapsed_sections": [
        "ZWsgkSMwOJVf",
        "6aCyWJrg9iwY",
        "ePbzUfwP2Qmh"
      ]
    },
    "kernelspec": {
      "name": "python3",
      "display_name": "Python 3"
    },
    "language_info": {
      "name": "python"
    }
  },
  "cells": [
    {
      "cell_type": "markdown",
      "metadata": {
        "id": "uVLwnFMM0sQw"
      },
      "source": [
        "# Consultas SQL"
      ]
    },
    {
      "cell_type": "markdown",
      "metadata": {
        "id": "R1snOoPhqDip"
      },
      "source": [
        "\n",
        "Antes de empezar cargamos nuestro archivo data_berka en nuestro entorno: [enlace](https://sorry.vse.cz/~berka/challenge/pkdd1999/berka.htm)"
      ]
    },
    {
      "cell_type": "code",
      "metadata": {
        "colab": {
          "base_uri": "https://localhost:8080/"
        },
        "id": "beYOpxWWdcBF",
        "outputId": "3113c7b4-3f5a-4940-ba9e-130aed63a9e8"
      },
      "source": [
        "!gdown --id 1Osmr7qVN0NMuqYxvLesNn7H4nqPCVbsU"
      ],
      "execution_count": null,
      "outputs": [
        {
          "output_type": "stream",
          "name": "stdout",
          "text": [
            "/usr/local/lib/python3.7/dist-packages/gdown/cli.py:131: FutureWarning: Option `--id` was deprecated in version 4.3.1 and will be removed in 5.0. You don't need to pass it anymore to use a file ID.\n",
            "  category=FutureWarning,\n",
            "Downloading...\n",
            "From: https://drive.google.com/uc?id=1Osmr7qVN0NMuqYxvLesNn7H4nqPCVbsU\n",
            "To: /content/data_berka.db\n",
            "100% 70.2M/70.2M [00:00<00:00, 187MB/s]\n"
          ]
        }
      ]
    },
    {
      "cell_type": "markdown",
      "metadata": {
        "id": "IW81KHupoRLS"
      },
      "source": [
        "En primer lugar cargamos la extensión que nos va permitir manejar comandos sql directamente en colab\n"
      ]
    },
    {
      "cell_type": "code",
      "metadata": {
        "id": "we_e5c410uTN",
        "colab": {
          "base_uri": "https://localhost:8080/"
        },
        "outputId": "418be52d-7e24-46bb-f797-b70f755e46eb"
      },
      "source": [
        "%load_ext sql"
      ],
      "execution_count": null,
      "outputs": [
        {
          "output_type": "stream",
          "name": "stdout",
          "text": [
            "The sql extension is already loaded. To reload it, use:\n",
            "  %reload_ext sql\n"
          ]
        }
      ]
    },
    {
      "cell_type": "markdown",
      "source": [
        "Y conectamos con la base de datos"
      ],
      "metadata": {
        "id": "ngTXa66CnDQl"
      }
    },
    {
      "cell_type": "code",
      "metadata": {
        "colab": {
          "base_uri": "https://localhost:8080/",
          "height": 35
        },
        "id": "duTwjlKm1Xrn",
        "outputId": "16df3baa-df9b-4835-d801-3e04028ac446"
      },
      "source": [
        "%sql sqlite:///data_berka.db"
      ],
      "execution_count": null,
      "outputs": [
        {
          "output_type": "execute_result",
          "data": {
            "text/plain": [
              "'Connected: @data_berka.db'"
            ],
            "application/vnd.google.colaboratory.intrinsic+json": {
              "type": "string"
            }
          },
          "metadata": {},
          "execution_count": 7
        }
      ]
    },
    {
      "cell_type": "markdown",
      "source": [
        "Comprobamos esquema"
      ],
      "metadata": {
        "id": "nl5LrMoznFVf"
      }
    },
    {
      "cell_type": "code",
      "metadata": {
        "colab": {
          "base_uri": "https://localhost:8080/",
          "height": 246
        },
        "id": "jPf78IHX1f9O",
        "outputId": "9eae8312-5bbd-46fa-c764-e4a723db98d0"
      },
      "source": [
        "%%sql\n",
        "SELECT name,type\n",
        "FROM sqlite_master\n",
        "WHERE type = 'table'"
      ],
      "execution_count": null,
      "outputs": [
        {
          "output_type": "stream",
          "name": "stdout",
          "text": [
            " * sqlite:///data_berka.db\n",
            "Done.\n"
          ]
        },
        {
          "output_type": "execute_result",
          "data": {
            "text/plain": [
              "[('DISTRICT', 'table'),\n",
              " ('ACCOUNT', 'table'),\n",
              " ('TRANS', 'table'),\n",
              " ('CLIENT', 'table'),\n",
              " ('DISPOSITION', 'table'),\n",
              " ('CREDIT_CARD', 'table'),\n",
              " ('LOAN', 'table'),\n",
              " ('PERMANENT_ORDER', 'table')]"
            ],
            "text/html": [
              "<table>\n",
              "    <thead>\n",
              "        <tr>\n",
              "            <th>name</th>\n",
              "            <th>type</th>\n",
              "        </tr>\n",
              "    </thead>\n",
              "    <tbody>\n",
              "        <tr>\n",
              "            <td>DISTRICT</td>\n",
              "            <td>table</td>\n",
              "        </tr>\n",
              "        <tr>\n",
              "            <td>ACCOUNT</td>\n",
              "            <td>table</td>\n",
              "        </tr>\n",
              "        <tr>\n",
              "            <td>TRANS</td>\n",
              "            <td>table</td>\n",
              "        </tr>\n",
              "        <tr>\n",
              "            <td>CLIENT</td>\n",
              "            <td>table</td>\n",
              "        </tr>\n",
              "        <tr>\n",
              "            <td>DISPOSITION</td>\n",
              "            <td>table</td>\n",
              "        </tr>\n",
              "        <tr>\n",
              "            <td>CREDIT_CARD</td>\n",
              "            <td>table</td>\n",
              "        </tr>\n",
              "        <tr>\n",
              "            <td>LOAN</td>\n",
              "            <td>table</td>\n",
              "        </tr>\n",
              "        <tr>\n",
              "            <td>PERMANENT_ORDER</td>\n",
              "            <td>table</td>\n",
              "        </tr>\n",
              "    </tbody>\n",
              "</table>"
            ]
          },
          "metadata": {},
          "execution_count": 8
        }
      ]
    },
    {
      "cell_type": "markdown",
      "source": [
        "## Consultas sobre Préstamos"
      ],
      "metadata": {
        "id": "nbRfCdWvN97r"
      }
    },
    {
      "cell_type": "markdown",
      "source": [
        "1. Obtener todos los atributos que tiene el banco sobre sus préstamos\n",
        "\n",
        "\n",
        "(extra limitar a 20 registros)"
      ],
      "metadata": {
        "id": "3emnyRCAMxUu"
      }
    },
    {
      "cell_type": "code",
      "source": [
        "%%sql\n",
        "SELECT *\n",
        "FROM LOAN\n",
        "LIMIT 20\n",
        "# SELECT *, seleccionará todas las variables de la tabla.\n",
        "## Al poner FROM LOAN se escoge la tabla de la que quieres extraer variables\n",
        "### LIMIT 20 simplemente limita las salidas a 20 para facilitar la lectura en nuestro caso."
      ],
      "metadata": {
        "id": "M7xsOeN8M2kh",
        "colab": {
          "base_uri": "https://localhost:8080/"
        },
        "outputId": "9ef59dc5-cb0e-421c-c53b-700cc6495138"
      },
      "execution_count": null,
      "outputs": [
        {
          "output_type": "stream",
          "name": "stdout",
          "text": [
            " * sqlite:///data_berka.db\n",
            "(sqlite3.OperationalError) unrecognized token: \"#\"\n",
            "[SQL: SELECT *\n",
            "FROM LOAN\n",
            "LIMIT 20\n",
            "# SELECT *, seleccionará todas las variables de la tabla.\n",
            "## Al poner FROM LOAN se escoge la tabla de la que quieres extraer variables\n",
            "### LIMIT 20 simplemente limita las salidas a 20 para facilitar la lectura en nuestro caso.]\n",
            "(Background on this error at: https://sqlalche.me/e/14/e3q8)\n"
          ]
        }
      ]
    },
    {
      "cell_type": "markdown",
      "source": [
        "2. Obtener los campos de fecha (date), amount (cantidad), duración (duration), pagos (payments), estado (status)\n",
        "\n",
        "(extra limitar a 20 registros)"
      ],
      "metadata": {
        "id": "ZRMqMQNDM3HE"
      }
    },
    {
      "cell_type": "code",
      "source": [
        "%%sql\n",
        "SELECT date, amount, duration, payments, status\n",
        "FROM LOAN\n",
        "ORDER BY amount DESC\n",
        "LIMIT 20\n",
        "# ORDER BY ordena los datos según la variable seleccionada, DESC ordena que empiece por los valores más altos."
      ],
      "metadata": {
        "id": "1Y_-HR8jNWJO",
        "colab": {
          "base_uri": "https://localhost:8080/"
        },
        "outputId": "abd1b009-93bc-4823-9f29-ee66063598c1"
      },
      "execution_count": null,
      "outputs": [
        {
          "output_type": "stream",
          "name": "stdout",
          "text": [
            " * sqlite:///data_berka.db\n",
            "(sqlite3.OperationalError) unrecognized token: \"#\"\n",
            "[SQL: SELECT date, amount, duration, payments, status\n",
            "FROM LOAN\n",
            "ORDER BY amount DESC\n",
            "LIMIT 20\n",
            "# ORDER BY ordena los datos según la variable seleccionada, DESC ordena que empiece por los valores más altos.]\n",
            "(Background on this error at: https://sqlalche.me/e/14/e3q8)\n"
          ]
        }
      ]
    },
    {
      "cell_type": "markdown",
      "source": [
        "3. Obtener los distintos tipos de estado que se presentan en un préstamo."
      ],
      "metadata": {
        "id": "ioDp5S9nNXTJ"
      }
    },
    {
      "cell_type": "code",
      "source": [
        "%%sql\n",
        "SELECT DISTINCT status\n",
        "FROM LOAN\n",
        "GROUP BY status"
      ],
      "metadata": {
        "id": "aNOWaFWuNfNS",
        "colab": {
          "base_uri": "https://localhost:8080/",
          "height": 161
        },
        "outputId": "40a25f25-6704-4e48-86b7-f4e48e36a781"
      },
      "execution_count": null,
      "outputs": [
        {
          "output_type": "stream",
          "name": "stdout",
          "text": [
            " * sqlite:///data_berka.db\n",
            "Done.\n"
          ]
        },
        {
          "output_type": "execute_result",
          "data": {
            "text/plain": [
              "[('A',), ('B',), ('C',), ('D',)]"
            ],
            "text/html": [
              "<table>\n",
              "    <thead>\n",
              "        <tr>\n",
              "            <th>status</th>\n",
              "        </tr>\n",
              "    </thead>\n",
              "    <tbody>\n",
              "        <tr>\n",
              "            <td>A</td>\n",
              "        </tr>\n",
              "        <tr>\n",
              "            <td>B</td>\n",
              "        </tr>\n",
              "        <tr>\n",
              "            <td>C</td>\n",
              "        </tr>\n",
              "        <tr>\n",
              "            <td>D</td>\n",
              "        </tr>\n",
              "    </tbody>\n",
              "</table>"
            ]
          },
          "metadata": {},
          "execution_count": 11
        }
      ]
    },
    {
      "cell_type": "markdown",
      "source": [
        "4. Obtener solo los prestamos ya terminados."
      ],
      "metadata": {
        "id": "1qOqD78PNepq"
      }
    },
    {
      "cell_type": "code",
      "source": [
        "%%sql\n",
        "SELECT *\n",
        "FROM LOAN\n",
        "WHERE status in (\"A\", \"B\")\n",
        "LIMIT 20\n",
        "# WHERE nos está seleccionando dos de las entradas posibles de la variable status y solo muestra las salidas que contengan una de ellas."
      ],
      "metadata": {
        "id": "1pnraRozNoBP",
        "colab": {
          "base_uri": "https://localhost:8080/"
        },
        "outputId": "8451d1fd-a7db-4494-cc01-9150fe8f913c"
      },
      "execution_count": null,
      "outputs": [
        {
          "output_type": "stream",
          "name": "stdout",
          "text": [
            " * sqlite:///data_berka.db\n",
            "(sqlite3.OperationalError) unrecognized token: \"#\"\n",
            "[SQL: SELECT *\n",
            "FROM LOAN\n",
            "WHERE status in (\"A\", \"B\")\n",
            "LIMIT 20\n",
            "# WHERE nos está seleccionando dos de las entradas posibles de la variable status y solo muestra las salidas que contengan una de ellas.]\n",
            "(Background on this error at: https://sqlalche.me/e/14/e3q8)\n"
          ]
        }
      ]
    },
    {
      "cell_type": "markdown",
      "source": [
        "5. Ordenar lo anterior por duración y cantidad\n",
        "\n",
        "extra: limitar a 20 elementos"
      ],
      "metadata": {
        "id": "GGL-r9zDNoTm"
      }
    },
    {
      "cell_type": "code",
      "source": [
        "%%sql\n",
        "SELECT *\n",
        "FROM LOAN\n",
        "WHERE status in (\"A\", \"B\")\n",
        "ORDER BY duration, amount DESC\n",
        "LIMIT 20\n",
        "# Aquí se demuestra que se puede ordenar por dos variables diferentes, como primera regla duración y luego cantidad."
      ],
      "metadata": {
        "id": "WQfD3hO2cPdg",
        "colab": {
          "base_uri": "https://localhost:8080/"
        },
        "outputId": "c7806acd-3b32-4a4f-f198-ab7e0de50f14"
      },
      "execution_count": null,
      "outputs": [
        {
          "output_type": "stream",
          "name": "stdout",
          "text": [
            " * sqlite:///data_berka.db\n",
            "(sqlite3.OperationalError) unrecognized token: \"#\"\n",
            "[SQL: SELECT *\n",
            "FROM LOAN\n",
            "WHERE status in (\"A\", \"B\")\n",
            "ORDER BY duration, amount DESC\n",
            "LIMIT 20\n",
            "# Aquí se demuestra que se puede ordenar por dos variables diferentes, como primera regla duración y luego cantidad.]\n",
            "(Background on this error at: https://sqlalche.me/e/14/e3q8)\n"
          ]
        }
      ]
    },
    {
      "cell_type": "markdown",
      "source": [
        "Cargar el resultado de la SQL en un dataframe de Pandas"
      ],
      "metadata": {
        "id": "4Z5-PjeHc1e7"
      }
    },
    {
      "cell_type": "code",
      "source": [
        "#importar librería\n",
        "import pandas as pd\n",
        "#ejecutar sql\n",
        "df= %sql SELECT * FROM LOAN WHERE status in (\"A\",\"B\") ORDER BY duration, amount DESC LIMIT 20\n",
        "#transformar el dataframe en pandas\n",
        "df.DataFrame()"
      ],
      "metadata": {
        "id": "g-kS377ycpd4",
        "colab": {
          "base_uri": "https://localhost:8080/",
          "height": 711
        },
        "outputId": "09abd3b8-91bb-4bae-febf-d8710a3db837"
      },
      "execution_count": null,
      "outputs": [
        {
          "output_type": "stream",
          "name": "stdout",
          "text": [
            " * sqlite:///data_berka.db\n",
            "Done.\n"
          ]
        },
        {
          "output_type": "execute_result",
          "data": {
            "text/plain": [
              "    loan_id  account_id    date  amount  duration  payments status\n",
              "0      6934        9494  970209  116832        12      9736      A\n",
              "1      5002         173  940531  104808        12      8734      A\n",
              "2      4986          97  970810  102876        12      8573      A\n",
              "3      5375        2106  961003  101520        12      8460      A\n",
              "4      7253       11079  970426   98304        12      8192      A\n",
              "5      6998        9833  940521   97632        12      8136      A\n",
              "6      6612        7907  970831   97392        12      8116      A\n",
              "7      5314        1787  930705   96396        12      8033      B\n",
              "8      6995        9814  960926   96168        12      8014      A\n",
              "9      5464        2419  950130   95808        12      7984      A\n",
              "10     5643        3273  970921   94512        12      7876      B\n",
              "11     5377        2116  970804   92400        12      7700      A\n",
              "12     5519        2694  940308   91632        12      7636      A\n",
              "13     7046       10049  970328   91632        12      7636      A\n",
              "14     5868        4361  970329   90156        12      7513      A\n",
              "15     7277       11231  971024   89280        12      7440      A\n",
              "16     4996         132  961106   88440        12      7370      A\n",
              "17     5882        4427  940926   87816        12      7318      A\n",
              "18     7119       10361  970602   86880        12      7240      A\n",
              "19     6876        9236  931221   86616        12      7218      A"
            ],
            "text/html": [
              "\n",
              "  <div id=\"df-1a5a9627-2e33-4ba5-99f0-dbc80f4bb8c5\">\n",
              "    <div class=\"colab-df-container\">\n",
              "      <div>\n",
              "<style scoped>\n",
              "    .dataframe tbody tr th:only-of-type {\n",
              "        vertical-align: middle;\n",
              "    }\n",
              "\n",
              "    .dataframe tbody tr th {\n",
              "        vertical-align: top;\n",
              "    }\n",
              "\n",
              "    .dataframe thead th {\n",
              "        text-align: right;\n",
              "    }\n",
              "</style>\n",
              "<table border=\"1\" class=\"dataframe\">\n",
              "  <thead>\n",
              "    <tr style=\"text-align: right;\">\n",
              "      <th></th>\n",
              "      <th>loan_id</th>\n",
              "      <th>account_id</th>\n",
              "      <th>date</th>\n",
              "      <th>amount</th>\n",
              "      <th>duration</th>\n",
              "      <th>payments</th>\n",
              "      <th>status</th>\n",
              "    </tr>\n",
              "  </thead>\n",
              "  <tbody>\n",
              "    <tr>\n",
              "      <th>0</th>\n",
              "      <td>6934</td>\n",
              "      <td>9494</td>\n",
              "      <td>970209</td>\n",
              "      <td>116832</td>\n",
              "      <td>12</td>\n",
              "      <td>9736</td>\n",
              "      <td>A</td>\n",
              "    </tr>\n",
              "    <tr>\n",
              "      <th>1</th>\n",
              "      <td>5002</td>\n",
              "      <td>173</td>\n",
              "      <td>940531</td>\n",
              "      <td>104808</td>\n",
              "      <td>12</td>\n",
              "      <td>8734</td>\n",
              "      <td>A</td>\n",
              "    </tr>\n",
              "    <tr>\n",
              "      <th>2</th>\n",
              "      <td>4986</td>\n",
              "      <td>97</td>\n",
              "      <td>970810</td>\n",
              "      <td>102876</td>\n",
              "      <td>12</td>\n",
              "      <td>8573</td>\n",
              "      <td>A</td>\n",
              "    </tr>\n",
              "    <tr>\n",
              "      <th>3</th>\n",
              "      <td>5375</td>\n",
              "      <td>2106</td>\n",
              "      <td>961003</td>\n",
              "      <td>101520</td>\n",
              "      <td>12</td>\n",
              "      <td>8460</td>\n",
              "      <td>A</td>\n",
              "    </tr>\n",
              "    <tr>\n",
              "      <th>4</th>\n",
              "      <td>7253</td>\n",
              "      <td>11079</td>\n",
              "      <td>970426</td>\n",
              "      <td>98304</td>\n",
              "      <td>12</td>\n",
              "      <td>8192</td>\n",
              "      <td>A</td>\n",
              "    </tr>\n",
              "    <tr>\n",
              "      <th>5</th>\n",
              "      <td>6998</td>\n",
              "      <td>9833</td>\n",
              "      <td>940521</td>\n",
              "      <td>97632</td>\n",
              "      <td>12</td>\n",
              "      <td>8136</td>\n",
              "      <td>A</td>\n",
              "    </tr>\n",
              "    <tr>\n",
              "      <th>6</th>\n",
              "      <td>6612</td>\n",
              "      <td>7907</td>\n",
              "      <td>970831</td>\n",
              "      <td>97392</td>\n",
              "      <td>12</td>\n",
              "      <td>8116</td>\n",
              "      <td>A</td>\n",
              "    </tr>\n",
              "    <tr>\n",
              "      <th>7</th>\n",
              "      <td>5314</td>\n",
              "      <td>1787</td>\n",
              "      <td>930705</td>\n",
              "      <td>96396</td>\n",
              "      <td>12</td>\n",
              "      <td>8033</td>\n",
              "      <td>B</td>\n",
              "    </tr>\n",
              "    <tr>\n",
              "      <th>8</th>\n",
              "      <td>6995</td>\n",
              "      <td>9814</td>\n",
              "      <td>960926</td>\n",
              "      <td>96168</td>\n",
              "      <td>12</td>\n",
              "      <td>8014</td>\n",
              "      <td>A</td>\n",
              "    </tr>\n",
              "    <tr>\n",
              "      <th>9</th>\n",
              "      <td>5464</td>\n",
              "      <td>2419</td>\n",
              "      <td>950130</td>\n",
              "      <td>95808</td>\n",
              "      <td>12</td>\n",
              "      <td>7984</td>\n",
              "      <td>A</td>\n",
              "    </tr>\n",
              "    <tr>\n",
              "      <th>10</th>\n",
              "      <td>5643</td>\n",
              "      <td>3273</td>\n",
              "      <td>970921</td>\n",
              "      <td>94512</td>\n",
              "      <td>12</td>\n",
              "      <td>7876</td>\n",
              "      <td>B</td>\n",
              "    </tr>\n",
              "    <tr>\n",
              "      <th>11</th>\n",
              "      <td>5377</td>\n",
              "      <td>2116</td>\n",
              "      <td>970804</td>\n",
              "      <td>92400</td>\n",
              "      <td>12</td>\n",
              "      <td>7700</td>\n",
              "      <td>A</td>\n",
              "    </tr>\n",
              "    <tr>\n",
              "      <th>12</th>\n",
              "      <td>5519</td>\n",
              "      <td>2694</td>\n",
              "      <td>940308</td>\n",
              "      <td>91632</td>\n",
              "      <td>12</td>\n",
              "      <td>7636</td>\n",
              "      <td>A</td>\n",
              "    </tr>\n",
              "    <tr>\n",
              "      <th>13</th>\n",
              "      <td>7046</td>\n",
              "      <td>10049</td>\n",
              "      <td>970328</td>\n",
              "      <td>91632</td>\n",
              "      <td>12</td>\n",
              "      <td>7636</td>\n",
              "      <td>A</td>\n",
              "    </tr>\n",
              "    <tr>\n",
              "      <th>14</th>\n",
              "      <td>5868</td>\n",
              "      <td>4361</td>\n",
              "      <td>970329</td>\n",
              "      <td>90156</td>\n",
              "      <td>12</td>\n",
              "      <td>7513</td>\n",
              "      <td>A</td>\n",
              "    </tr>\n",
              "    <tr>\n",
              "      <th>15</th>\n",
              "      <td>7277</td>\n",
              "      <td>11231</td>\n",
              "      <td>971024</td>\n",
              "      <td>89280</td>\n",
              "      <td>12</td>\n",
              "      <td>7440</td>\n",
              "      <td>A</td>\n",
              "    </tr>\n",
              "    <tr>\n",
              "      <th>16</th>\n",
              "      <td>4996</td>\n",
              "      <td>132</td>\n",
              "      <td>961106</td>\n",
              "      <td>88440</td>\n",
              "      <td>12</td>\n",
              "      <td>7370</td>\n",
              "      <td>A</td>\n",
              "    </tr>\n",
              "    <tr>\n",
              "      <th>17</th>\n",
              "      <td>5882</td>\n",
              "      <td>4427</td>\n",
              "      <td>940926</td>\n",
              "      <td>87816</td>\n",
              "      <td>12</td>\n",
              "      <td>7318</td>\n",
              "      <td>A</td>\n",
              "    </tr>\n",
              "    <tr>\n",
              "      <th>18</th>\n",
              "      <td>7119</td>\n",
              "      <td>10361</td>\n",
              "      <td>970602</td>\n",
              "      <td>86880</td>\n",
              "      <td>12</td>\n",
              "      <td>7240</td>\n",
              "      <td>A</td>\n",
              "    </tr>\n",
              "    <tr>\n",
              "      <th>19</th>\n",
              "      <td>6876</td>\n",
              "      <td>9236</td>\n",
              "      <td>931221</td>\n",
              "      <td>86616</td>\n",
              "      <td>12</td>\n",
              "      <td>7218</td>\n",
              "      <td>A</td>\n",
              "    </tr>\n",
              "  </tbody>\n",
              "</table>\n",
              "</div>\n",
              "      <button class=\"colab-df-convert\" onclick=\"convertToInteractive('df-1a5a9627-2e33-4ba5-99f0-dbc80f4bb8c5')\"\n",
              "              title=\"Convert this dataframe to an interactive table.\"\n",
              "              style=\"display:none;\">\n",
              "        \n",
              "  <svg xmlns=\"http://www.w3.org/2000/svg\" height=\"24px\"viewBox=\"0 0 24 24\"\n",
              "       width=\"24px\">\n",
              "    <path d=\"M0 0h24v24H0V0z\" fill=\"none\"/>\n",
              "    <path d=\"M18.56 5.44l.94 2.06.94-2.06 2.06-.94-2.06-.94-.94-2.06-.94 2.06-2.06.94zm-11 1L8.5 8.5l.94-2.06 2.06-.94-2.06-.94L8.5 2.5l-.94 2.06-2.06.94zm10 10l.94 2.06.94-2.06 2.06-.94-2.06-.94-.94-2.06-.94 2.06-2.06.94z\"/><path d=\"M17.41 7.96l-1.37-1.37c-.4-.4-.92-.59-1.43-.59-.52 0-1.04.2-1.43.59L10.3 9.45l-7.72 7.72c-.78.78-.78 2.05 0 2.83L4 21.41c.39.39.9.59 1.41.59.51 0 1.02-.2 1.41-.59l7.78-7.78 2.81-2.81c.8-.78.8-2.07 0-2.86zM5.41 20L4 18.59l7.72-7.72 1.47 1.35L5.41 20z\"/>\n",
              "  </svg>\n",
              "      </button>\n",
              "      \n",
              "  <style>\n",
              "    .colab-df-container {\n",
              "      display:flex;\n",
              "      flex-wrap:wrap;\n",
              "      gap: 12px;\n",
              "    }\n",
              "\n",
              "    .colab-df-convert {\n",
              "      background-color: #E8F0FE;\n",
              "      border: none;\n",
              "      border-radius: 50%;\n",
              "      cursor: pointer;\n",
              "      display: none;\n",
              "      fill: #1967D2;\n",
              "      height: 32px;\n",
              "      padding: 0 0 0 0;\n",
              "      width: 32px;\n",
              "    }\n",
              "\n",
              "    .colab-df-convert:hover {\n",
              "      background-color: #E2EBFA;\n",
              "      box-shadow: 0px 1px 2px rgba(60, 64, 67, 0.3), 0px 1px 3px 1px rgba(60, 64, 67, 0.15);\n",
              "      fill: #174EA6;\n",
              "    }\n",
              "\n",
              "    [theme=dark] .colab-df-convert {\n",
              "      background-color: #3B4455;\n",
              "      fill: #D2E3FC;\n",
              "    }\n",
              "\n",
              "    [theme=dark] .colab-df-convert:hover {\n",
              "      background-color: #434B5C;\n",
              "      box-shadow: 0px 1px 3px 1px rgba(0, 0, 0, 0.15);\n",
              "      filter: drop-shadow(0px 1px 2px rgba(0, 0, 0, 0.3));\n",
              "      fill: #FFFFFF;\n",
              "    }\n",
              "  </style>\n",
              "\n",
              "      <script>\n",
              "        const buttonEl =\n",
              "          document.querySelector('#df-1a5a9627-2e33-4ba5-99f0-dbc80f4bb8c5 button.colab-df-convert');\n",
              "        buttonEl.style.display =\n",
              "          google.colab.kernel.accessAllowed ? 'block' : 'none';\n",
              "\n",
              "        async function convertToInteractive(key) {\n",
              "          const element = document.querySelector('#df-1a5a9627-2e33-4ba5-99f0-dbc80f4bb8c5');\n",
              "          const dataTable =\n",
              "            await google.colab.kernel.invokeFunction('convertToInteractive',\n",
              "                                                     [key], {});\n",
              "          if (!dataTable) return;\n",
              "\n",
              "          const docLinkHtml = 'Like what you see? Visit the ' +\n",
              "            '<a target=\"_blank\" href=https://colab.research.google.com/notebooks/data_table.ipynb>data table notebook</a>'\n",
              "            + ' to learn more about interactive tables.';\n",
              "          element.innerHTML = '';\n",
              "          dataTable['output_type'] = 'display_data';\n",
              "          await google.colab.output.renderOutput(dataTable, element);\n",
              "          const docLink = document.createElement('div');\n",
              "          docLink.innerHTML = docLinkHtml;\n",
              "          element.appendChild(docLink);\n",
              "        }\n",
              "      </script>\n",
              "    </div>\n",
              "  </div>\n",
              "  "
            ]
          },
          "metadata": {},
          "execution_count": 14
        }
      ]
    },
    {
      "cell_type": "markdown",
      "source": [
        "Ex. 1\n",
        "\n",
        ">Plantear otro filtro para los préstamos (por cantidad, duración, status, etc.)\n"
      ],
      "metadata": {
        "id": "rq7eabjjODyy"
      }
    },
    {
      "cell_type": "code",
      "source": [
        "%%sql\n",
        "SELECT *\n",
        "FROM LOAN\n",
        "WHERE amount > 500000\n",
        "ORDER BY amount DESC\n",
        "#Aquí solo se muestran los préstamos realizados de cantidad superior a 500.000\n"
      ],
      "metadata": {
        "colab": {
          "base_uri": "https://localhost:8080/"
        },
        "id": "A7qpmkuQdn3R",
        "outputId": "bdeb6d74-4a79-4706-b299-208601865f87"
      },
      "execution_count": null,
      "outputs": [
        {
          "output_type": "stream",
          "name": "stdout",
          "text": [
            " * sqlite:///data_berka.db\n",
            "(sqlite3.OperationalError) near \"#Aquí\": syntax error\n",
            "[SQL: SELECT *\n",
            "FROM LOAN\n",
            "WHERE amount > 500000\n",
            "ORDER BY amount DESC\n",
            "#Aquí solo se muestran los préstamos realizados de cantidad superior a 500.000]\n",
            "(Background on this error at: https://sqlalche.me/e/14/e3q8)\n"
          ]
        }
      ]
    },
    {
      "cell_type": "markdown",
      "metadata": {
        "id": "2wEsj5e02itn"
      },
      "source": [
        " Ex. 2 \n",
        "\n",
        "> Seleccionar fecha, cantidad, duración y pagos de aquellos préstamos que han sido terminados ordenados de mayor a menor cantidad de dinero\n",
        "\n",
        ">extra: volcar en un DataFrame"
      ]
    },
    {
      "cell_type": "code",
      "source": [
        "%%sql\n",
        "SELECT date, amount, duration, payments\n",
        "FROM LOAN\n",
        "WHERE status in (\"A\", \"B\") AND duration > 12\n",
        "ORDER BY amount DESC\n",
        "LIMIT 20\n",
        "# AND anñade otra restricción de filtro, en este caso, establecemos una duración superior a 12 meses para préstamos en estado A o B"
      ],
      "metadata": {
        "id": "umWLpyefQI98",
        "colab": {
          "base_uri": "https://localhost:8080/"
        },
        "outputId": "370ee756-fac7-428a-c181-f96397f85d35"
      },
      "execution_count": null,
      "outputs": [
        {
          "output_type": "stream",
          "name": "stdout",
          "text": [
            " * sqlite:///data_berka.db\n",
            "(sqlite3.OperationalError) unrecognized token: \"#\"\n",
            "[SQL: SELECT date, amount, duration, payments\n",
            "FROM LOAN\n",
            "WHERE status in (\"A\", \"B\") AND duration > 12\n",
            "ORDER BY amount DESC\n",
            "LIMIT 20\n",
            "# AND anñade otra restricción de filtro, en este caso, establecemos una duración superior a 12 meses para préstamos en estado A o B]\n",
            "(Background on this error at: https://sqlalche.me/e/14/e3q8)\n"
          ]
        }
      ]
    },
    {
      "cell_type": "code",
      "source": [
        "%%sql\n",
        "SELECT COUNT(*)\n",
        "FROM LOAN\n",
        "WHERE status in (\"C\", \"D\") AND duration between 24 and 48\n",
        "#COUNT realiza un recuento de los datos que arroja la sentencia."
      ],
      "metadata": {
        "colab": {
          "base_uri": "https://localhost:8080/"
        },
        "id": "2pL7XIOkf15e",
        "outputId": "189cd8e9-0bc1-4888-938c-e0330f53bd1c"
      },
      "execution_count": null,
      "outputs": [
        {
          "output_type": "stream",
          "name": "stdout",
          "text": [
            " * sqlite:///data_berka.db\n",
            "(sqlite3.OperationalError) near \"#COUNT\": syntax error\n",
            "[SQL: SELECT COUNT(*)\n",
            "FROM LOAN\n",
            "WHERE status in (\"C\", \"D\") AND duration between 24 and 48\n",
            "#COUNT realiza un recuento de los datos que arroja la sentencia.]\n",
            "(Background on this error at: https://sqlalche.me/e/14/e3q8)\n"
          ]
        }
      ]
    },
    {
      "cell_type": "markdown",
      "source": [
        "## Group By"
      ],
      "metadata": {
        "id": "ZWsgkSMwOJVf"
      }
    },
    {
      "cell_type": "markdown",
      "source": [
        "7. ¿Cuántos préstamos hay por cada estado y cual es la media de la cantidad de dinero prestado?"
      ],
      "metadata": {
        "id": "S0jOtvnnOj5z"
      }
    },
    {
      "cell_type": "code",
      "source": [
        "%%sql\n",
        "SELECT status, count(*) as \"total\", avg (amount) as \"media del dinero\"\n",
        "FROM LOAN\n",
        "WHERE duration >= 24 \n",
        "GROUP BY status\n",
        "HAVING total > 25\n",
        "ORDER BY total DESC\n",
        "# Se puede llamar a una variables poniendo después as.\n",
        "## avg es para obtener la media de la variable deseada\n",
        "### Con HAVING filtramos funciones ya escritas, se escoge si mostrar o no el grupo completo."
      ],
      "metadata": {
        "id": "2QIH9ReV61CK",
        "colab": {
          "base_uri": "https://localhost:8080/"
        },
        "outputId": "e66056df-ba75-447e-ac0c-431bb0fa0bc3"
      },
      "execution_count": null,
      "outputs": [
        {
          "output_type": "stream",
          "name": "stdout",
          "text": [
            " * sqlite:///data_berka.db\n",
            "(sqlite3.OperationalError) unrecognized token: \"#\"\n",
            "[SQL: SELECT status, count(*) as \"total\", avg (amount) as \"media del dinero\"\n",
            "FROM LOAN\n",
            "WHERE duration >= 24 \n",
            "GROUP BY status\n",
            "HAVING total > 25\n",
            "ORDER BY total DESC\n",
            "# Se puede llamar a una variables poniendo después as.\n",
            "## avg es para obtener la media de la variable deseada\n",
            "### Con HAVING filtramos funciones ya escritas, se escoge si mostrar o no el grupo completo.]\n",
            "(Background on this error at: https://sqlalche.me/e/14/e3q8)\n"
          ]
        }
      ]
    },
    {
      "cell_type": "markdown",
      "source": [
        "8. Por cada Región, quiero contar el número de ciudades y obtener el total del número de habitantes de la región\n",
        "\n"
      ],
      "metadata": {
        "id": "eDvofbeROKvn"
      }
    },
    {
      "cell_type": "code",
      "metadata": {
        "id": "V0mDm3aO-ply",
        "colab": {
          "base_uri": "https://localhost:8080/"
        },
        "outputId": "5cdf96e5-3b52-464e-92ff-4f09bf307b52"
      },
      "source": [
        "%%sql\n",
        "SELECT A3, sum(A9), sum(A4)\n",
        "FROM district\n",
        "WHERE NOT A3 ==\"Prague\"\n",
        "GROUP BY A3\n",
        "# WHERE NOT selecciona justo el resultado que seleccionamos. En este caso, se quiere seleccionar todas las regiones menos Praga\n",
        "\n"
      ],
      "execution_count": null,
      "outputs": [
        {
          "output_type": "stream",
          "name": "stdout",
          "text": [
            " * sqlite:///data_berka.db\n",
            "(sqlite3.OperationalError) unrecognized token: \"#\"\n",
            "[SQL: SELECT A3, sum(A9), sum(A4)\n",
            "FROM district\n",
            "WHERE NOT A3 ==\"Prague\"\n",
            "GROUP BY A3\n",
            "# WHERE NOT selecciona justo el resultado que seleccionamos. En este caso, se quiere seleccionar todas las regiones menos Praga]\n",
            "(Background on this error at: https://sqlalche.me/e/14/e3q8)\n"
          ]
        }
      ]
    },
    {
      "cell_type": "markdown",
      "source": [
        "9. Contar ordenes permanentes (domiciliaciones) por banco y tipo de transacción"
      ],
      "metadata": {
        "id": "4L4mxgoPOvnm"
      }
    },
    {
      "cell_type": "code",
      "source": [
        "%%sql\n",
        "SELECT bank_to, k_symbol, count(*) as c\n",
        "FROM PERMANENT_ORDER\n",
        "WHERE amount < 500\n",
        "GROUP BY bank_to, k_symbol\n",
        "ORDER BY bank_to"
      ],
      "metadata": {
        "id": "j04p6m3T6-wP",
        "colab": {
          "base_uri": "https://localhost:8080/",
          "height": 1000
        },
        "outputId": "85f7c455-38ee-401d-9a86-334622530af5"
      },
      "execution_count": null,
      "outputs": [
        {
          "output_type": "stream",
          "name": "stdout",
          "text": [
            " * sqlite:///data_berka.db\n",
            "Done.\n"
          ]
        },
        {
          "output_type": "execute_result",
          "data": {
            "text/plain": [
              "[('AB', ' ', 20),\n",
              " ('AB', 'POJISTNE', 16),\n",
              " ('AB', 'SIPO', 17),\n",
              " ('CD', ' ', 34),\n",
              " ('CD', 'POJISTNE', 11),\n",
              " ('CD', 'SIPO', 18),\n",
              " ('EF', ' ', 23),\n",
              " ('EF', 'POJISTNE', 21),\n",
              " ('EF', 'SIPO', 10),\n",
              " ('EF', 'UVER', 1),\n",
              " ('GH', ' ', 31),\n",
              " ('GH', 'LEASING', 1),\n",
              " ('GH', 'POJISTNE', 17),\n",
              " ('GH', 'SIPO', 16),\n",
              " ('GH', 'UVER', 4),\n",
              " ('IJ', ' ', 35),\n",
              " ('IJ', 'POJISTNE', 19),\n",
              " ('IJ', 'SIPO', 15),\n",
              " ('KL', ' ', 31),\n",
              " ('KL', 'LEASING', 1),\n",
              " ('KL', 'POJISTNE', 15),\n",
              " ('KL', 'SIPO', 15),\n",
              " ('KL', 'UVER', 2),\n",
              " ('MN', ' ', 24),\n",
              " ('MN', 'LEASING', 1),\n",
              " ('MN', 'POJISTNE', 20),\n",
              " ('MN', 'SIPO', 9),\n",
              " ('MN', 'UVER', 1),\n",
              " ('OP', ' ', 28),\n",
              " ('OP', 'POJISTNE', 23),\n",
              " ('OP', 'SIPO', 11),\n",
              " ('QR', ' ', 19),\n",
              " ('QR', 'POJISTNE', 18),\n",
              " ('QR', 'SIPO', 20),\n",
              " ('QR', 'UVER', 1),\n",
              " ('ST', ' ', 32),\n",
              " ('ST', 'POJISTNE', 17),\n",
              " ('ST', 'SIPO', 16),\n",
              " ('ST', 'UVER', 2),\n",
              " ('UV', ' ', 30),\n",
              " ('UV', 'POJISTNE', 15),\n",
              " ('UV', 'SIPO', 11),\n",
              " ('UV', 'UVER', 1),\n",
              " ('WX', ' ', 24),\n",
              " ('WX', 'POJISTNE', 25),\n",
              " ('WX', 'SIPO', 15),\n",
              " ('YZ', ' ', 28),\n",
              " ('YZ', 'LEASING', 2),\n",
              " ('YZ', 'POJISTNE', 20),\n",
              " ('YZ', 'SIPO', 14),\n",
              " ('YZ', 'UVER', 1)]"
            ],
            "text/html": [
              "<table>\n",
              "    <thead>\n",
              "        <tr>\n",
              "            <th>bank_to</th>\n",
              "            <th>k_symbol</th>\n",
              "            <th>c</th>\n",
              "        </tr>\n",
              "    </thead>\n",
              "    <tbody>\n",
              "        <tr>\n",
              "            <td>AB</td>\n",
              "            <td> </td>\n",
              "            <td>20</td>\n",
              "        </tr>\n",
              "        <tr>\n",
              "            <td>AB</td>\n",
              "            <td>POJISTNE</td>\n",
              "            <td>16</td>\n",
              "        </tr>\n",
              "        <tr>\n",
              "            <td>AB</td>\n",
              "            <td>SIPO</td>\n",
              "            <td>17</td>\n",
              "        </tr>\n",
              "        <tr>\n",
              "            <td>CD</td>\n",
              "            <td> </td>\n",
              "            <td>34</td>\n",
              "        </tr>\n",
              "        <tr>\n",
              "            <td>CD</td>\n",
              "            <td>POJISTNE</td>\n",
              "            <td>11</td>\n",
              "        </tr>\n",
              "        <tr>\n",
              "            <td>CD</td>\n",
              "            <td>SIPO</td>\n",
              "            <td>18</td>\n",
              "        </tr>\n",
              "        <tr>\n",
              "            <td>EF</td>\n",
              "            <td> </td>\n",
              "            <td>23</td>\n",
              "        </tr>\n",
              "        <tr>\n",
              "            <td>EF</td>\n",
              "            <td>POJISTNE</td>\n",
              "            <td>21</td>\n",
              "        </tr>\n",
              "        <tr>\n",
              "            <td>EF</td>\n",
              "            <td>SIPO</td>\n",
              "            <td>10</td>\n",
              "        </tr>\n",
              "        <tr>\n",
              "            <td>EF</td>\n",
              "            <td>UVER</td>\n",
              "            <td>1</td>\n",
              "        </tr>\n",
              "        <tr>\n",
              "            <td>GH</td>\n",
              "            <td> </td>\n",
              "            <td>31</td>\n",
              "        </tr>\n",
              "        <tr>\n",
              "            <td>GH</td>\n",
              "            <td>LEASING</td>\n",
              "            <td>1</td>\n",
              "        </tr>\n",
              "        <tr>\n",
              "            <td>GH</td>\n",
              "            <td>POJISTNE</td>\n",
              "            <td>17</td>\n",
              "        </tr>\n",
              "        <tr>\n",
              "            <td>GH</td>\n",
              "            <td>SIPO</td>\n",
              "            <td>16</td>\n",
              "        </tr>\n",
              "        <tr>\n",
              "            <td>GH</td>\n",
              "            <td>UVER</td>\n",
              "            <td>4</td>\n",
              "        </tr>\n",
              "        <tr>\n",
              "            <td>IJ</td>\n",
              "            <td> </td>\n",
              "            <td>35</td>\n",
              "        </tr>\n",
              "        <tr>\n",
              "            <td>IJ</td>\n",
              "            <td>POJISTNE</td>\n",
              "            <td>19</td>\n",
              "        </tr>\n",
              "        <tr>\n",
              "            <td>IJ</td>\n",
              "            <td>SIPO</td>\n",
              "            <td>15</td>\n",
              "        </tr>\n",
              "        <tr>\n",
              "            <td>KL</td>\n",
              "            <td> </td>\n",
              "            <td>31</td>\n",
              "        </tr>\n",
              "        <tr>\n",
              "            <td>KL</td>\n",
              "            <td>LEASING</td>\n",
              "            <td>1</td>\n",
              "        </tr>\n",
              "        <tr>\n",
              "            <td>KL</td>\n",
              "            <td>POJISTNE</td>\n",
              "            <td>15</td>\n",
              "        </tr>\n",
              "        <tr>\n",
              "            <td>KL</td>\n",
              "            <td>SIPO</td>\n",
              "            <td>15</td>\n",
              "        </tr>\n",
              "        <tr>\n",
              "            <td>KL</td>\n",
              "            <td>UVER</td>\n",
              "            <td>2</td>\n",
              "        </tr>\n",
              "        <tr>\n",
              "            <td>MN</td>\n",
              "            <td> </td>\n",
              "            <td>24</td>\n",
              "        </tr>\n",
              "        <tr>\n",
              "            <td>MN</td>\n",
              "            <td>LEASING</td>\n",
              "            <td>1</td>\n",
              "        </tr>\n",
              "        <tr>\n",
              "            <td>MN</td>\n",
              "            <td>POJISTNE</td>\n",
              "            <td>20</td>\n",
              "        </tr>\n",
              "        <tr>\n",
              "            <td>MN</td>\n",
              "            <td>SIPO</td>\n",
              "            <td>9</td>\n",
              "        </tr>\n",
              "        <tr>\n",
              "            <td>MN</td>\n",
              "            <td>UVER</td>\n",
              "            <td>1</td>\n",
              "        </tr>\n",
              "        <tr>\n",
              "            <td>OP</td>\n",
              "            <td> </td>\n",
              "            <td>28</td>\n",
              "        </tr>\n",
              "        <tr>\n",
              "            <td>OP</td>\n",
              "            <td>POJISTNE</td>\n",
              "            <td>23</td>\n",
              "        </tr>\n",
              "        <tr>\n",
              "            <td>OP</td>\n",
              "            <td>SIPO</td>\n",
              "            <td>11</td>\n",
              "        </tr>\n",
              "        <tr>\n",
              "            <td>QR</td>\n",
              "            <td> </td>\n",
              "            <td>19</td>\n",
              "        </tr>\n",
              "        <tr>\n",
              "            <td>QR</td>\n",
              "            <td>POJISTNE</td>\n",
              "            <td>18</td>\n",
              "        </tr>\n",
              "        <tr>\n",
              "            <td>QR</td>\n",
              "            <td>SIPO</td>\n",
              "            <td>20</td>\n",
              "        </tr>\n",
              "        <tr>\n",
              "            <td>QR</td>\n",
              "            <td>UVER</td>\n",
              "            <td>1</td>\n",
              "        </tr>\n",
              "        <tr>\n",
              "            <td>ST</td>\n",
              "            <td> </td>\n",
              "            <td>32</td>\n",
              "        </tr>\n",
              "        <tr>\n",
              "            <td>ST</td>\n",
              "            <td>POJISTNE</td>\n",
              "            <td>17</td>\n",
              "        </tr>\n",
              "        <tr>\n",
              "            <td>ST</td>\n",
              "            <td>SIPO</td>\n",
              "            <td>16</td>\n",
              "        </tr>\n",
              "        <tr>\n",
              "            <td>ST</td>\n",
              "            <td>UVER</td>\n",
              "            <td>2</td>\n",
              "        </tr>\n",
              "        <tr>\n",
              "            <td>UV</td>\n",
              "            <td> </td>\n",
              "            <td>30</td>\n",
              "        </tr>\n",
              "        <tr>\n",
              "            <td>UV</td>\n",
              "            <td>POJISTNE</td>\n",
              "            <td>15</td>\n",
              "        </tr>\n",
              "        <tr>\n",
              "            <td>UV</td>\n",
              "            <td>SIPO</td>\n",
              "            <td>11</td>\n",
              "        </tr>\n",
              "        <tr>\n",
              "            <td>UV</td>\n",
              "            <td>UVER</td>\n",
              "            <td>1</td>\n",
              "        </tr>\n",
              "        <tr>\n",
              "            <td>WX</td>\n",
              "            <td> </td>\n",
              "            <td>24</td>\n",
              "        </tr>\n",
              "        <tr>\n",
              "            <td>WX</td>\n",
              "            <td>POJISTNE</td>\n",
              "            <td>25</td>\n",
              "        </tr>\n",
              "        <tr>\n",
              "            <td>WX</td>\n",
              "            <td>SIPO</td>\n",
              "            <td>15</td>\n",
              "        </tr>\n",
              "        <tr>\n",
              "            <td>YZ</td>\n",
              "            <td> </td>\n",
              "            <td>28</td>\n",
              "        </tr>\n",
              "        <tr>\n",
              "            <td>YZ</td>\n",
              "            <td>LEASING</td>\n",
              "            <td>2</td>\n",
              "        </tr>\n",
              "        <tr>\n",
              "            <td>YZ</td>\n",
              "            <td>POJISTNE</td>\n",
              "            <td>20</td>\n",
              "        </tr>\n",
              "        <tr>\n",
              "            <td>YZ</td>\n",
              "            <td>SIPO</td>\n",
              "            <td>14</td>\n",
              "        </tr>\n",
              "        <tr>\n",
              "            <td>YZ</td>\n",
              "            <td>UVER</td>\n",
              "            <td>1</td>\n",
              "        </tr>\n",
              "    </tbody>\n",
              "</table>"
            ]
          },
          "metadata": {},
          "execution_count": 20
        }
      ]
    },
    {
      "cell_type": "markdown",
      "source": [
        "# JOIN"
      ],
      "metadata": {
        "id": "mjAZv9zYO5Jm"
      }
    },
    {
      "cell_type": "markdown",
      "metadata": {
        "id": "pYMAOe0VG3aH"
      },
      "source": [
        "10. ¿Cuántas cuentas de frecuencia mensual tienen un un préstamo activo?\n",
        "\n"
      ]
    },
    {
      "cell_type": "code",
      "metadata": {
        "id": "oSIskSX3HCgp",
        "colab": {
          "base_uri": "https://localhost:8080/"
        },
        "outputId": "d8972df9-99cb-409c-c922-4197f869b43b"
      },
      "source": [
        "%%sql\n",
        "SELECT loan_id, A4, A9, A10, A11, SUBSTR(c.birth_number, 0,3), l.date loan_date, amount, duration, payments, frequency, a.date acc_date, status\n",
        "FROM LOAN l, ACCOUNT a, DISTRICT d, DISPOSITION dp, CLIENT c\n",
        "WHERE l.account_id = a.account_id\n",
        "AND  a.district_id= d.A1\n",
        "AND status in (\"A\", \"B\")\n",
        "AND dp.account_id= a.account_id  --join disposition y account\n",
        "AND dp.client_id= c.client_id --join disposition client\n",
        "AND dp.type= \"OWNER\"\n",
        "LIMIT 10 \n",
        "# SUBSTR es para escoger parte de un dato concreto.\n",
        "## Si después de poner una variable en FROM ponemos al lado algo, la nombraremos así automáticamente.\n",
        "### Si hay dos tablas que comparten clave, es necesario decir al programa que ambas se refieren a lo mismo. De ahí la sentencia de WHERE.\n"
      ],
      "execution_count": null,
      "outputs": [
        {
          "output_type": "stream",
          "name": "stdout",
          "text": [
            " * sqlite:///data_berka.db\n",
            "(sqlite3.OperationalError) unrecognized token: \"#\"\n",
            "[SQL: SELECT loan_id, A4, A9, A10, A11, SUBSTR(c.birth_number, 0,3), l.date loan_date, amount, duration, payments, frequency, a.date acc_date, status\n",
            "FROM LOAN l, ACCOUNT a, DISTRICT d, DISPOSITION dp, CLIENT c\n",
            "WHERE l.account_id = a.account_id\n",
            "AND  a.district_id= d.A1\n",
            "AND status in (\"A\", \"B\")\n",
            "AND dp.account_id= a.account_id  --join disposition y account\n",
            "AND dp.client_id= c.client_id --join disposition client\n",
            "AND dp.type= \"OWNER\"\n",
            "LIMIT 10 \n",
            "# SUBSTR es para escoger parte de un dato concreto.\n",
            "## Si después de poner una variable en FROM ponemos al lado algo, la nombraremos así automáticamente.\n",
            "### Si hay dos tablas que comparten clave, es necesario decir al programa que ambas se refieren a lo mismo. De ahí la sentencia de WHERE.]\n",
            "(Background on this error at: https://sqlalche.me/e/14/e3q8)\n"
          ]
        }
      ]
    },
    {
      "cell_type": "markdown",
      "metadata": {
        "id": "q6d-mkhTDddI"
      },
      "source": [
        "11. Domiciliaciones en cuentas de actualización semanal de alquiler en cuentas de Praga"
      ]
    },
    {
      "cell_type": "code",
      "source": [
        "%%sql\n",
        "SELECT avg(l.amount) as \"media de cantidad prestada\"\n",
        "FROM LOAN l, ACCOUNT a, DISTRICT d\n",
        "WHERE l.account_id= a.account_id\n",
        "AND a.district_id = d.A1\n",
        "and d.A3 = \"Prague\"\n"
      ],
      "metadata": {
        "id": "49lqSF407TaR",
        "colab": {
          "base_uri": "https://localhost:8080/",
          "height": 96
        },
        "outputId": "f798b4ef-5838-4c53-db28-8f5042247562"
      },
      "execution_count": null,
      "outputs": [
        {
          "output_type": "stream",
          "name": "stdout",
          "text": [
            " * sqlite:///data_berka.db\n",
            "Done.\n"
          ]
        },
        {
          "output_type": "execute_result",
          "data": {
            "text/plain": [
              "[(153957.2857142857,)]"
            ],
            "text/html": [
              "<table>\n",
              "    <thead>\n",
              "        <tr>\n",
              "            <th>media de cantidad prestada</th>\n",
              "        </tr>\n",
              "    </thead>\n",
              "    <tbody>\n",
              "        <tr>\n",
              "            <td>153957.2857142857</td>\n",
              "        </tr>\n",
              "    </tbody>\n",
              "</table>"
            ]
          },
          "metadata": {},
          "execution_count": 22
        }
      ]
    },
    {
      "cell_type": "code",
      "metadata": {
        "id": "RSg_7AqLDog_",
        "colab": {
          "base_uri": "https://localhost:8080/"
        },
        "outputId": "4dce6956-98ef-4e11-e541-acfde3925501"
      },
      "source": [
        "%%sql\n",
        "SELECT count(*)\n",
        "FROM LOAN\n",
        "WHERE amount > 153957.2857142857 (SELECT avg(l.amount)\n",
        "  FROM LOAN l, ACCOUNT a, DISTRICT d\n",
        "    WHERE l.account_id= a.account_id\n",
        "    AND a.district_id = d.A1\n",
        "      and d.A3 = \"Prague\")"
      ],
      "execution_count": null,
      "outputs": [
        {
          "output_type": "stream",
          "name": "stdout",
          "text": [
            " * sqlite:///data_berka.db\n",
            "(sqlite3.OperationalError) near \"(\": syntax error\n",
            "[SQL: SELECT count(*)\n",
            "FROM LOAN\n",
            "WHERE amount > 153957.2857142857 (SELECT avg(l.amount)\n",
            "  FROM LOAN l, ACCOUNT a, DISTRICT d\n",
            "    WHERE l.account_id= a.account_id\n",
            "    AND a.district_id = d.A1\n",
            "      and d.A3 = \"Prague\")]\n",
            "(Background on this error at: https://sqlalche.me/e/14/e3q8)\n"
          ]
        }
      ]
    },
    {
      "cell_type": "markdown",
      "metadata": {
        "id": "l3TYpZlj8vQU"
      },
      "source": [
        "\n",
        "12. Domiciliaciones (*órdenes*) semanales para alquiler (*leasing*) en cuentas de Praga\n",
        "\n",
        " - Ordenes permanentes de alquiler (*leasing*) y semanales (*weekly*)\n",
        " - Relación con cuentas que tienen región Praga"
      ]
    },
    {
      "cell_type": "code",
      "metadata": {
        "id": "Hl-0s5LbsT0z",
        "colab": {
          "base_uri": "https://localhost:8080/",
          "height": 203
        },
        "outputId": "7e6b0b1d-b2bf-4d95-f95d-dc0983c9f4d6"
      },
      "source": [
        "%%sql\n",
        "SELECT order_id, k_symbol, bank_to, a.account_id, a.frequency, d.A2, d.A3\n",
        "FROM PERMANENT_ORDER p, ACCOUNT a, DISTRICT d\n",
        "WHERE p.account_id = a.account_id and a.district_id = d.A1\n",
        "  and k_symbol = \"LEASING\" and a.frequency = \"weekly\" and d.A3 = \"Prague\""
      ],
      "execution_count": null,
      "outputs": [
        {
          "output_type": "stream",
          "name": "stdout",
          "text": [
            " * sqlite:///data_berka.db\n",
            "Done.\n"
          ]
        },
        {
          "output_type": "execute_result",
          "data": {
            "text/plain": [
              "[(29514, 'LEASING', 'OP', 72, 'weekly', 'Hl.m. Praha', 'Prague'),\n",
              " (30250, 'LEASING', 'CD', 573, 'weekly', 'Hl.m. Praha', 'Prague'),\n",
              " (30944, 'LEASING', 'IJ', 1056, 'weekly', 'Hl.m. Praha', 'Prague'),\n",
              " (34056, 'LEASING', 'OP', 3141, 'weekly', 'Hl.m. Praha', 'Prague'),\n",
              " (35237, 'LEASING', 'AB', 3959, 'weekly', 'Hl.m. Praha', 'Prague'),\n",
              " (40429, 'LEASING', 'ST', 7465, 'weekly', 'Hl.m. Praha', 'Prague')]"
            ],
            "text/html": [
              "<table>\n",
              "    <thead>\n",
              "        <tr>\n",
              "            <th>order_id</th>\n",
              "            <th>k_symbol</th>\n",
              "            <th>bank_to</th>\n",
              "            <th>account_id</th>\n",
              "            <th>frequency</th>\n",
              "            <th>A2</th>\n",
              "            <th>A3</th>\n",
              "        </tr>\n",
              "    </thead>\n",
              "    <tbody>\n",
              "        <tr>\n",
              "            <td>29514</td>\n",
              "            <td>LEASING</td>\n",
              "            <td>OP</td>\n",
              "            <td>72</td>\n",
              "            <td>weekly</td>\n",
              "            <td>Hl.m. Praha</td>\n",
              "            <td>Prague</td>\n",
              "        </tr>\n",
              "        <tr>\n",
              "            <td>30250</td>\n",
              "            <td>LEASING</td>\n",
              "            <td>CD</td>\n",
              "            <td>573</td>\n",
              "            <td>weekly</td>\n",
              "            <td>Hl.m. Praha</td>\n",
              "            <td>Prague</td>\n",
              "        </tr>\n",
              "        <tr>\n",
              "            <td>30944</td>\n",
              "            <td>LEASING</td>\n",
              "            <td>IJ</td>\n",
              "            <td>1056</td>\n",
              "            <td>weekly</td>\n",
              "            <td>Hl.m. Praha</td>\n",
              "            <td>Prague</td>\n",
              "        </tr>\n",
              "        <tr>\n",
              "            <td>34056</td>\n",
              "            <td>LEASING</td>\n",
              "            <td>OP</td>\n",
              "            <td>3141</td>\n",
              "            <td>weekly</td>\n",
              "            <td>Hl.m. Praha</td>\n",
              "            <td>Prague</td>\n",
              "        </tr>\n",
              "        <tr>\n",
              "            <td>35237</td>\n",
              "            <td>LEASING</td>\n",
              "            <td>AB</td>\n",
              "            <td>3959</td>\n",
              "            <td>weekly</td>\n",
              "            <td>Hl.m. Praha</td>\n",
              "            <td>Prague</td>\n",
              "        </tr>\n",
              "        <tr>\n",
              "            <td>40429</td>\n",
              "            <td>LEASING</td>\n",
              "            <td>ST</td>\n",
              "            <td>7465</td>\n",
              "            <td>weekly</td>\n",
              "            <td>Hl.m. Praha</td>\n",
              "            <td>Prague</td>\n",
              "        </tr>\n",
              "    </tbody>\n",
              "</table>"
            ]
          },
          "metadata": {},
          "execution_count": 24
        }
      ]
    },
    {
      "cell_type": "markdown",
      "metadata": {
        "id": "mlHOEFl_v0Fm"
      },
      "source": [
        "13. Transacciones relacionadas con pensiones (DUCHOD) en Plzen desde el banco MN\n",
        "\n",
        "(limitar a 10)"
      ]
    },
    {
      "cell_type": "code",
      "metadata": {
        "id": "mPBrFgPtvzYN",
        "colab": {
          "base_uri": "https://localhost:8080/",
          "height": 289
        },
        "outputId": "a72e9f7f-c931-4435-8632-a72eb7689e84"
      },
      "source": [
        "%%sql\n",
        "SELECT trans_id, a.account_id, k_symbol, bank\n",
        "FROM TRANS t, ACCOUNT a, DISTRICT d\n",
        "WHERE t.account_id = a.account_id and a.district_id = d.A1\n",
        "  and k_symbol = \"DUCHOD\" and bank = \"MN\" and d.A2 like \"Plzen%\"  \n",
        "LIMIT 10\n"
      ],
      "execution_count": null,
      "outputs": [
        {
          "output_type": "stream",
          "name": "stdout",
          "text": [
            " * sqlite:///data_berka.db\n",
            "Done.\n"
          ]
        },
        {
          "output_type": "execute_result",
          "data": {
            "text/plain": [
              "[(47969, 161, 'DUCHOD', 'MN'),\n",
              " (47970, 161, 'DUCHOD', 'MN'),\n",
              " (47971, 161, 'DUCHOD', 'MN'),\n",
              " (47972, 161, 'DUCHOD', 'MN'),\n",
              " (47973, 161, 'DUCHOD', 'MN'),\n",
              " (47974, 161, 'DUCHOD', 'MN'),\n",
              " (47975, 161, 'DUCHOD', 'MN'),\n",
              " (47976, 161, 'DUCHOD', 'MN'),\n",
              " (47977, 161, 'DUCHOD', 'MN'),\n",
              " (1098524, 3753, 'DUCHOD', 'MN')]"
            ],
            "text/html": [
              "<table>\n",
              "    <thead>\n",
              "        <tr>\n",
              "            <th>trans_id</th>\n",
              "            <th>account_id</th>\n",
              "            <th>k_symbol</th>\n",
              "            <th>bank</th>\n",
              "        </tr>\n",
              "    </thead>\n",
              "    <tbody>\n",
              "        <tr>\n",
              "            <td>47969</td>\n",
              "            <td>161</td>\n",
              "            <td>DUCHOD</td>\n",
              "            <td>MN</td>\n",
              "        </tr>\n",
              "        <tr>\n",
              "            <td>47970</td>\n",
              "            <td>161</td>\n",
              "            <td>DUCHOD</td>\n",
              "            <td>MN</td>\n",
              "        </tr>\n",
              "        <tr>\n",
              "            <td>47971</td>\n",
              "            <td>161</td>\n",
              "            <td>DUCHOD</td>\n",
              "            <td>MN</td>\n",
              "        </tr>\n",
              "        <tr>\n",
              "            <td>47972</td>\n",
              "            <td>161</td>\n",
              "            <td>DUCHOD</td>\n",
              "            <td>MN</td>\n",
              "        </tr>\n",
              "        <tr>\n",
              "            <td>47973</td>\n",
              "            <td>161</td>\n",
              "            <td>DUCHOD</td>\n",
              "            <td>MN</td>\n",
              "        </tr>\n",
              "        <tr>\n",
              "            <td>47974</td>\n",
              "            <td>161</td>\n",
              "            <td>DUCHOD</td>\n",
              "            <td>MN</td>\n",
              "        </tr>\n",
              "        <tr>\n",
              "            <td>47975</td>\n",
              "            <td>161</td>\n",
              "            <td>DUCHOD</td>\n",
              "            <td>MN</td>\n",
              "        </tr>\n",
              "        <tr>\n",
              "            <td>47976</td>\n",
              "            <td>161</td>\n",
              "            <td>DUCHOD</td>\n",
              "            <td>MN</td>\n",
              "        </tr>\n",
              "        <tr>\n",
              "            <td>47977</td>\n",
              "            <td>161</td>\n",
              "            <td>DUCHOD</td>\n",
              "            <td>MN</td>\n",
              "        </tr>\n",
              "        <tr>\n",
              "            <td>1098524</td>\n",
              "            <td>3753</td>\n",
              "            <td>DUCHOD</td>\n",
              "            <td>MN</td>\n",
              "        </tr>\n",
              "    </tbody>\n",
              "</table>"
            ]
          },
          "metadata": {},
          "execution_count": 25
        }
      ]
    },
    {
      "cell_type": "markdown",
      "metadata": {
        "id": "Ovmgyxkd90ME"
      },
      "source": [
        "# Subconsultas"
      ]
    },
    {
      "cell_type": "markdown",
      "metadata": {
        "id": "0YCXvcENCKj7"
      },
      "source": [
        "14. Prestamos cuya cantidad es superior a la media de los clientes de Praga"
      ]
    },
    {
      "cell_type": "markdown",
      "metadata": {
        "id": "O4RbJSfXBW7t"
      },
      "source": [
        "- Cantidad media prestada a los cuentas de Praga "
      ]
    },
    {
      "cell_type": "code",
      "metadata": {
        "id": "BqeI97l5BWp3",
        "colab": {
          "base_uri": "https://localhost:8080/",
          "height": 96
        },
        "outputId": "2062f573-49bb-4ac4-d063-bbc626dc2c80"
      },
      "source": [
        "%%sql\n",
        "SELECT avg(l.amount)\n",
        "FROM LOAN l, ACCOUNT a, DISTRICT D\n",
        "WHERE l.account_id = a.account_id and a.district_id = d.A1 \n",
        "and d.A3 = \"Prague\"\n"
      ],
      "execution_count": null,
      "outputs": [
        {
          "output_type": "stream",
          "name": "stdout",
          "text": [
            " * sqlite:///data_berka.db\n",
            "Done.\n"
          ]
        },
        {
          "output_type": "execute_result",
          "data": {
            "text/plain": [
              "[(153957.2857142857,)]"
            ],
            "text/html": [
              "<table>\n",
              "    <thead>\n",
              "        <tr>\n",
              "            <th>avg(l.amount)</th>\n",
              "        </tr>\n",
              "    </thead>\n",
              "    <tbody>\n",
              "        <tr>\n",
              "            <td>153957.2857142857</td>\n",
              "        </tr>\n",
              "    </tbody>\n",
              "</table>"
            ]
          },
          "metadata": {},
          "execution_count": 26
        }
      ]
    },
    {
      "cell_type": "markdown",
      "metadata": {
        "id": "DerPYF5nI1xQ"
      },
      "source": [
        "- Consultar los préstamos superiores a esa cantidad"
      ]
    },
    {
      "cell_type": "code",
      "metadata": {
        "id": "cYE3agAOBn7U",
        "colab": {
          "base_uri": "https://localhost:8080/"
        },
        "outputId": "72dfd1df-1b8b-451f-94ec-137d2d3598b6"
      },
      "source": [
        "%%sql\n",
        "SELECT count() as \"total de prestamos superiores\"\n",
        "FROM LOAN\n",
        "WHERE amount > (SELECT avg(l.amount)\n",
        "        FROM LOAN l, ACCOUNT a, DISTRICT d\n",
        "        WHERE l.account_id = a.account_id and a.district_id = d.A1  \n",
        "        and d.A3 = \"Prague\")\n",
        "# Se han seleccionado el total de préstamos que son superiores a la media, si se elimina \"count()\"\" se realizará el desglose de estos\n",
        "\n"
      ],
      "execution_count": null,
      "outputs": [
        {
          "output_type": "stream",
          "name": "stdout",
          "text": [
            " * sqlite:///data_berka.db\n",
            "(sqlite3.OperationalError) unrecognized token: \"#\"\n",
            "[SQL: SELECT count() as \"total de prestamos superiores\"\n",
            "FROM LOAN\n",
            "WHERE amount > (SELECT avg(l.amount)\n",
            "        FROM LOAN l, ACCOUNT a, DISTRICT d\n",
            "        WHERE l.account_id = a.account_id and a.district_id = d.A1  \n",
            "        and d.A3 = \"Prague\")\n",
            "# Se han seleccionado el total de préstamos que son superiores a la media, si se elimina \"count()\"\" se realizará el desglose de estos]\n",
            "(Background on this error at: https://sqlalche.me/e/14/e3q8)\n"
          ]
        }
      ]
    },
    {
      "cell_type": "markdown",
      "metadata": {
        "id": "bC7in4f_76wC"
      },
      "source": [
        "# Repaso de Join/Group By"
      ]
    },
    {
      "cell_type": "markdown",
      "metadata": {
        "id": "6aCyWJrg9iwY"
      },
      "source": [
        "## Objetivo 2.1"
      ]
    },
    {
      "cell_type": "markdown",
      "metadata": {
        "id": "pCXPD-ri5xXk"
      },
      "source": [
        "15 . Clientes de Praga con préstamos según su estado\n",
        "\n",
        "- ¿Cuántos clientes hay en Praga?\n",
        "- ¿Cuántas cuentas tienen asociados clientes en Praga?\n",
        "- ¿cuántas de esas cuentas tienen asociados un préstamo?\n",
        "- Necesito saber cuántos hay por cada estado (*status*)\n"
      ]
    },
    {
      "cell_type": "code",
      "source": [
        "%%sql \n",
        "SELECT status, count(*)\n",
        "FROM CLIENT c, DISTRICT d, DISPOSITION dp, LOAN l \n",
        "WHERE c.district_id = d.A1 and c.client_id = dp.client_id\n",
        "and l.account_id = dp.account_id and d.A3 = \"Prague\"\n",
        "GROUP BY status\n"
      ],
      "metadata": {
        "colab": {
          "base_uri": "https://localhost:8080/",
          "height": 161
        },
        "id": "nLo6Hgp-zzdJ",
        "outputId": "f7f20223-0f86-47c4-9e83-68515a4ac116"
      },
      "execution_count": null,
      "outputs": [
        {
          "output_type": "stream",
          "name": "stdout",
          "text": [
            " * sqlite:///data_berka.db\n",
            "Done.\n"
          ]
        },
        {
          "output_type": "execute_result",
          "data": {
            "text/plain": [
              "[('A', 37), ('B', 3), ('C', 55), ('D', 3)]"
            ],
            "text/html": [
              "<table>\n",
              "    <thead>\n",
              "        <tr>\n",
              "            <th>status</th>\n",
              "            <th>count(*)</th>\n",
              "        </tr>\n",
              "    </thead>\n",
              "    <tbody>\n",
              "        <tr>\n",
              "            <td>A</td>\n",
              "            <td>37</td>\n",
              "        </tr>\n",
              "        <tr>\n",
              "            <td>B</td>\n",
              "            <td>3</td>\n",
              "        </tr>\n",
              "        <tr>\n",
              "            <td>C</td>\n",
              "            <td>55</td>\n",
              "        </tr>\n",
              "        <tr>\n",
              "            <td>D</td>\n",
              "            <td>3</td>\n",
              "        </tr>\n",
              "    </tbody>\n",
              "</table>"
            ]
          },
          "metadata": {},
          "execution_count": 28
        }
      ]
    },
    {
      "cell_type": "markdown",
      "metadata": {
        "id": "ePbzUfwP2Qmh"
      },
      "source": [
        "## Ejercicio\n",
        "\n",
        "> cantidad de dinero medio en transacciones de clientes propietarios de cuentas en Kolin (owned accounts)"
      ]
    },
    {
      "cell_type": "code",
      "metadata": {
        "id": "MPy8_6Nt0Ho1",
        "colab": {
          "base_uri": "https://localhost:8080/",
          "height": 289
        },
        "outputId": "dfd54435-7435-441d-c2cc-632be1823465"
      },
      "source": [
        "%%sql\n",
        "SELECT c.client_id, avg (amount) as av\n",
        "from client c, district d, disposition ds, account a, trans t\n",
        "WHERE c.district_id = d.A1 and c.client_id = ds.client_id\n",
        "    and ds.account_id = a.account_id and a.account_id = t.account_id\n",
        "and d.A2 = \"Kolin\" and ds.type = \"OWNER\" \n",
        "GROUP BY c.client_id\n",
        "ORDER BY av DESC\n",
        "LIMIT 10"
      ],
      "execution_count": null,
      "outputs": [
        {
          "output_type": "stream",
          "name": "stdout",
          "text": [
            " * sqlite:///data_berka.db\n",
            "Done.\n"
          ]
        },
        {
          "output_type": "execute_result",
          "data": {
            "text/plain": [
              "[(5249, 15611.831578947369),\n",
              " (3378, 14803.997402597402),\n",
              " (1388, 14464.587096774194),\n",
              " (6803, 13825.125153374232),\n",
              " (8091, 13227.722338204592),\n",
              " (3298, 13074.464857881138),\n",
              " (1806, 13037.759375),\n",
              " (4331, 12644.448051948051),\n",
              " (4974, 12023.291743119267),\n",
              " (3080, 11784.50460251046)]"
            ],
            "text/html": [
              "<table>\n",
              "    <thead>\n",
              "        <tr>\n",
              "            <th>client_id</th>\n",
              "            <th>av</th>\n",
              "        </tr>\n",
              "    </thead>\n",
              "    <tbody>\n",
              "        <tr>\n",
              "            <td>5249</td>\n",
              "            <td>15611.831578947369</td>\n",
              "        </tr>\n",
              "        <tr>\n",
              "            <td>3378</td>\n",
              "            <td>14803.997402597402</td>\n",
              "        </tr>\n",
              "        <tr>\n",
              "            <td>1388</td>\n",
              "            <td>14464.587096774194</td>\n",
              "        </tr>\n",
              "        <tr>\n",
              "            <td>6803</td>\n",
              "            <td>13825.125153374232</td>\n",
              "        </tr>\n",
              "        <tr>\n",
              "            <td>8091</td>\n",
              "            <td>13227.722338204592</td>\n",
              "        </tr>\n",
              "        <tr>\n",
              "            <td>3298</td>\n",
              "            <td>13074.464857881138</td>\n",
              "        </tr>\n",
              "        <tr>\n",
              "            <td>1806</td>\n",
              "            <td>13037.759375</td>\n",
              "        </tr>\n",
              "        <tr>\n",
              "            <td>4331</td>\n",
              "            <td>12644.448051948051</td>\n",
              "        </tr>\n",
              "        <tr>\n",
              "            <td>4974</td>\n",
              "            <td>12023.291743119267</td>\n",
              "        </tr>\n",
              "        <tr>\n",
              "            <td>3080</td>\n",
              "            <td>11784.50460251046</td>\n",
              "        </tr>\n",
              "    </tbody>\n",
              "</table>"
            ]
          },
          "metadata": {},
          "execution_count": 29
        }
      ]
    },
    {
      "cell_type": "markdown",
      "metadata": {
        "id": "3L6bXSnY2hSn"
      },
      "source": [
        "> sanction interest if negative balance Cesky Krumlov\n",
        "\n",
        "\n",
        "> stands for loan payment in Praha from the bank EF"
      ]
    },
    {
      "cell_type": "markdown",
      "metadata": {
        "id": "99ghIZqT9uDs"
      },
      "source": [
        "# Extra: Left Join"
      ]
    },
    {
      "cell_type": "markdown",
      "metadata": {
        "id": "H6_VZerEAN8Z"
      },
      "source": [
        "1. ¿Cuántas cuentas hay? 4500\n",
        "2. ¿Cuántas cuentas hay con préstamos? (inner join) 682\n",
        "3. Cuentas con los datos de los préstamos si los hay\n",
        "4. los ordenamos por cantidad\n"
      ]
    },
    {
      "cell_type": "code",
      "metadata": {
        "id": "IW8SUKMQ-VWo",
        "colab": {
          "base_uri": "https://localhost:8080/"
        },
        "outputId": "9e0f829f-606c-4af4-b61c-7ad97a0594d7"
      },
      "source": [
        "%%sql \n",
        "SELECT a.account_id, a.date, l.amount, l.status, l.payments, l.duration\n",
        "FROM ACCOUNT a INNER OUTER JOIN LOAN l ON a.account_id = l.account_id\n",
        "ORDER BY amount DESC\n",
        "\n",
        "\n"
      ],
      "execution_count": null,
      "outputs": [
        {
          "output_type": "stream",
          "name": "stdout",
          "text": [
            " * sqlite:///data_berka.db\n",
            "(sqlite3.OperationalError) unknown or unsupported join type: INNER OUTER\n",
            "[SQL: SELECT a.account_id, a.date, l.amount, l.status, l.payments, l.duration\n",
            "FROM ACCOUNT a INNER OUTER JOIN LOAN l ON a.account_id = l.account_id\n",
            "ORDER BY amount DESC]\n",
            "(Background on this error at: https://sqlalche.me/e/14/e3q8)\n"
          ]
        }
      ]
    },
    {
      "cell_type": "markdown",
      "metadata": {
        "id": "Jd8P8wSFB0Hu"
      },
      "source": [
        "# DataSets\n",
        "\n",
        "---"
      ]
    },
    {
      "cell_type": "markdown",
      "source": [
        "Dataset sobre las transacciones con Vyskov, extrayendo los años de las diferentes fechas. "
      ],
      "metadata": {
        "id": "EZeYmxUsoBZU"
      }
    },
    {
      "cell_type": "code",
      "source": [
        "%%sql dataset << SELECT substr(a.date,0,3) acc_year, substr(t.date, 0, 3) year,amount, balance, k_symbol\n",
        "FROM ACCOUNT a, TRANS t, DISTRICT d\n",
        "WHERE a.district_id = d.A1 and d.A2 = \"Vyskov\"\n",
        "AND a.account_id = t.account_id\n",
        "#Se va a crear un dataset y se le va a insertar la sentencia posterior desoués de <<"
      ],
      "metadata": {
        "colab": {
          "base_uri": "https://localhost:8080/"
        },
        "id": "rzM2fptYltyo",
        "outputId": "86c099eb-b72f-4659-a225-c86abd40e3c4"
      },
      "execution_count": null,
      "outputs": [
        {
          "output_type": "stream",
          "name": "stdout",
          "text": [
            " * sqlite:///data_berka.db\n",
            "Done.\n",
            "Returning data to local variable dataset\n"
          ]
        }
      ]
    },
    {
      "cell_type": "code",
      "source": [
        "dataset.DataFrame().to_csv(\"dataset.csv\")"
      ],
      "metadata": {
        "id": "AM8GCbRvokRt"
      },
      "execution_count": null,
      "outputs": []
    }
  ]
}